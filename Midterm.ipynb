{
  "nbformat": 4,
  "nbformat_minor": 0,
  "metadata": {
    "colab": {
      "provenance": []
    },
    "kernelspec": {
      "name": "python3",
      "display_name": "Python 3"
    },
    "language_info": {
      "name": "python"
    }
  },
  "cells": [
    {
      "cell_type": "code",
      "source": [
        "!pip install faker pandas\n",
        "!pip install faker pandas openpyxl\n",
        "\n",
        "\n",
        "import pandas as pd\n",
        "from datetime import datetime, timedelta"
      ],
      "metadata": {
        "id": "gJy9-E9twGn3",
        "colab": {
          "base_uri": "https://localhost:8080/"
        },
        "outputId": "11d8efe0-40d5-4a51-904d-92b81a5b3883"
      },
      "execution_count": 1,
      "outputs": [
        {
          "output_type": "stream",
          "name": "stdout",
          "text": [
            "Collecting faker\n",
            "  Downloading Faker-33.1.0-py3-none-any.whl.metadata (15 kB)\n",
            "Requirement already satisfied: pandas in /usr/local/lib/python3.10/dist-packages (2.2.2)\n",
            "Requirement already satisfied: python-dateutil>=2.4 in /usr/local/lib/python3.10/dist-packages (from faker) (2.8.2)\n",
            "Requirement already satisfied: typing-extensions in /usr/local/lib/python3.10/dist-packages (from faker) (4.12.2)\n",
            "Requirement already satisfied: numpy>=1.22.4 in /usr/local/lib/python3.10/dist-packages (from pandas) (1.26.4)\n",
            "Requirement already satisfied: pytz>=2020.1 in /usr/local/lib/python3.10/dist-packages (from pandas) (2024.2)\n",
            "Requirement already satisfied: tzdata>=2022.7 in /usr/local/lib/python3.10/dist-packages (from pandas) (2024.2)\n",
            "Requirement already satisfied: six>=1.5 in /usr/local/lib/python3.10/dist-packages (from python-dateutil>=2.4->faker) (1.17.0)\n",
            "Downloading Faker-33.1.0-py3-none-any.whl (1.9 MB)\n",
            "\u001b[2K   \u001b[90m━━━━━━━━━━━━━━━━━━━━━━━━━━━━━━━━━━━━━━━━\u001b[0m \u001b[32m1.9/1.9 MB\u001b[0m \u001b[31m17.5 MB/s\u001b[0m eta \u001b[36m0:00:00\u001b[0m\n",
            "\u001b[?25hInstalling collected packages: faker\n",
            "Successfully installed faker-33.1.0\n",
            "Requirement already satisfied: faker in /usr/local/lib/python3.10/dist-packages (33.1.0)\n",
            "Requirement already satisfied: pandas in /usr/local/lib/python3.10/dist-packages (2.2.2)\n",
            "Requirement already satisfied: openpyxl in /usr/local/lib/python3.10/dist-packages (3.1.5)\n",
            "Requirement already satisfied: python-dateutil>=2.4 in /usr/local/lib/python3.10/dist-packages (from faker) (2.8.2)\n",
            "Requirement already satisfied: typing-extensions in /usr/local/lib/python3.10/dist-packages (from faker) (4.12.2)\n",
            "Requirement already satisfied: numpy>=1.22.4 in /usr/local/lib/python3.10/dist-packages (from pandas) (1.26.4)\n",
            "Requirement already satisfied: pytz>=2020.1 in /usr/local/lib/python3.10/dist-packages (from pandas) (2024.2)\n",
            "Requirement already satisfied: tzdata>=2022.7 in /usr/local/lib/python3.10/dist-packages (from pandas) (2024.2)\n",
            "Requirement already satisfied: et-xmlfile in /usr/local/lib/python3.10/dist-packages (from openpyxl) (2.0.0)\n",
            "Requirement already satisfied: six>=1.5 in /usr/local/lib/python3.10/dist-packages (from python-dateutil>=2.4->faker) (1.17.0)\n"
          ]
        }
      ]
    },
    {
      "cell_type": "code",
      "source": [
        "from faker import Faker"
      ],
      "metadata": {
        "id": "NvxV4Kf2waSM"
      },
      "execution_count": 2,
      "outputs": []
    },
    {
      "cell_type": "code",
      "execution_count": null,
      "metadata": {
        "id": "FT-irpmK1wBO"
      },
      "outputs": [],
      "source": [
        "import pandas as pd\n",
        "from faker import Faker\n",
        "import random\n",
        "\n",
        "# Define countries\n",
        "g7_countries = [\n",
        "    'Canada', 'France', 'Germany', 'Italy', 'Japan',\n",
        "    'United Kingdom', 'United States', 'Austria', 'Switzerland'\n",
        "]\n",
        "\n",
        "# Locale mapping for Faker\n",
        "locale_mapping = {\n",
        "    'Canada': 'en_CA',\n",
        "    'France': 'fr_FR',\n",
        "    'Germany': 'de_DE',\n",
        "    'Italy': 'it_IT',\n",
        "    'Japan': 'ja_JP',\n",
        "    'United Kingdom': 'en_GB',\n",
        "    'United States': 'en_US',\n",
        "    'Austria': 'de_AT',\n",
        "    'Switzerland': 'de_CH'\n",
        "}\n",
        "\n",
        "# Get Faker instance for the specified country\n",
        "def get_faker_instance(country):\n",
        "    locale = locale_mapping.get(country, 'en_US')\n",
        "    return Faker(locale)\n",
        "\n",
        "# Initialize unique value trackers\n",
        "unique_values = set()\n",
        "\n",
        "# Ensure every value in every row is unique\n",
        "def get_globally_unique_value(generator):\n",
        "    while True:\n",
        "        value = generator()\n",
        "        if value not in unique_values:\n",
        "            unique_values.add(value)\n",
        "            return value\n",
        "\n",
        "# Generate unique data rows\n",
        "def generate_unique_data(faker, num_rows):\n",
        "    data = []\n",
        "    for _ in range(num_rows):\n",
        "        company_id = get_globally_unique_value(faker.uuid4)\n",
        "        company_name = get_globally_unique_value(faker.company)\n",
        "        domain = get_globally_unique_value(faker.domain_name)\n",
        "        contact_id = get_globally_unique_value(faker.uuid4)\n",
        "        last_name = get_globally_unique_value(faker.last_name)\n",
        "        email = get_globally_unique_value(faker.email)\n",
        "        phone = get_globally_unique_value(faker.phone_number)\n",
        "        deal_id = get_globally_unique_value(faker.uuid4)\n",
        "        deal_name = get_globally_unique_value(faker.bs)\n",
        "\n",
        "        # Append unique row\n",
        "        data.append({\n",
        "            'CompanyID': company_id,\n",
        "            'CompanyName': company_name,\n",
        "            'Domain': domain,\n",
        "            'ContactID': contact_id,\n",
        "            'LastName': last_name,\n",
        "            'Email': email,\n",
        "            'Phone': phone,\n",
        "            'DealID': deal_id,\n",
        "            'DealName': deal_name,\n",
        "            'Industry': faker.bs(),\n",
        "            'Address': faker.address(),\n",
        "            'Country': faker.country(),\n",
        "            'Stage': random.choice(['Prospecting', 'Negotiation', 'Closed Won', 'Closed Lost']),\n",
        "            'Amount': round(random.uniform(1000, 100000), 2),\n",
        "            'Source': random.choice(['Referral', 'Website', 'Cold Call']),\n",
        "            'CloseDate': faker.date_between(start_date='-1y', end_date='today'),\n",
        "            'SendDate': faker.date_between(start_date='-1y', end_date='today'),\n",
        "            'OpenStatus': random.choice([True, False]),\n",
        "            'ClickStatus': random.choice([True, False]),\n",
        "            'Type': random.choice(['Email', 'Call', 'Meeting']),\n",
        "            'Outcome': random.choice(['Successful', 'Unsuccessful', 'Pending']),\n",
        "            'utm_source': random.choice(['google', 'facebook', 'linkedin', 'instagram', 'twitter']),\n",
        "            'utm_medium': random.choice(['cpc', 'email', 'social', 'banner', 'organic']),\n",
        "            'utm_campaign': f\"campaign_{random.randint(1, 10)}\",\n",
        "            'utm_term': f\"keyword_{random.randint(1, 10)}\",\n",
        "            'utm_content': f\"content_{random.randint(1, 100)}\"\n",
        "        })\n",
        "    return pd.DataFrame(data)\n",
        "\n",
        "# Main script\n",
        "faker = Faker()\n",
        "num_rows = 5000  # Limit to 1000 rows\n",
        "final_df = generate_unique_data(faker, num_rows)\n",
        "\n",
        "# Output summary\n",
        "print(final_df.info())\n",
        "print(final_df.head())\n"
      ]
    },
    {
      "cell_type": "code",
      "source": [
        "pd.DataFrame.head(final_df)"
      ],
      "metadata": {
        "id": "TqYVIAWLmZa-"
      },
      "execution_count": null,
      "outputs": []
    },
    {
      "cell_type": "code",
      "source": [
        "final_df.info()"
      ],
      "metadata": {
        "id": "ByDTl2hcmWTn"
      },
      "execution_count": null,
      "outputs": []
    },
    {
      "cell_type": "code",
      "source": [
        "type(df)"
      ],
      "metadata": {
        "id": "6M_H1DofJqLS"
      },
      "execution_count": null,
      "outputs": []
    },
    {
      "cell_type": "code",
      "source": [
        "final_df"
      ],
      "metadata": {
        "id": "b7qc8cIWJrse"
      },
      "execution_count": null,
      "outputs": []
    },
    {
      "cell_type": "code",
      "source": [
        "df.to_excel('output.xlsx', index=False)"
      ],
      "metadata": {
        "id": "FAurHmXri53N"
      },
      "execution_count": null,
      "outputs": []
    }
  ]
}